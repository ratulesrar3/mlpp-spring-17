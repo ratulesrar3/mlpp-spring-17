{
 "cells": [
  {
   "cell_type": "markdown",
   "metadata": {},
   "source": [
    "### Diagnostic HW 1 - Part 2\n",
    "\n",
    "To limit the number of API requets, I will focus on Vacant and Abandoned Buildings on the last 3 months of 2016. Specifically, I will explore the income distribution of where the requests are coming from. "
   ]
  },
  {
   "cell_type": "code",
   "execution_count": 1,
   "metadata": {
    "collapsed": false
   },
   "outputs": [],
   "source": [
    "import numpy as np\n",
    "import pandas as pd\n",
    "import matplotlib.pyplot as plt\n",
    "plt.style.use('ggplot')\n",
    "import seaborn as sns\n",
    "import json\n",
    "from pprint import pprint\n",
    "import requests\n",
    "from urllib.request import urlopen\n",
    "from datetime import datetime\n",
    "import matplotlib\n",
    "%matplotlib inline"
   ]
  },
  {
   "cell_type": "code",
   "execution_count": 2,
   "metadata": {
    "collapsed": true
   },
   "outputs": [],
   "source": [
    "buildings = pd.read_csv('vacant_buildings_3_months.csv')"
   ]
  },
  {
   "cell_type": "code",
   "execution_count": 3,
   "metadata": {
    "collapsed": false
   },
   "outputs": [
    {
     "data": {
      "text/plain": [
       "(702, 23)"
      ]
     },
     "execution_count": 3,
     "metadata": {},
     "output_type": "execute_result"
    }
   ],
   "source": [
    "buildings.shape"
   ]
  },
  {
   "cell_type": "code",
   "execution_count": 4,
   "metadata": {
    "collapsed": false
   },
   "outputs": [
    {
     "data": {
      "text/plain": [
       "(0, 0)"
      ]
     },
     "execution_count": 4,
     "metadata": {},
     "output_type": "execute_result"
    }
   ],
   "source": [
    "sum(pd.isnull(buildings['LATITUDE'])), sum(pd.isnull(buildings['LONGITUDE']))"
   ]
  },
  {
   "cell_type": "markdown",
   "metadata": {},
   "source": [
    "There are no null values for latitude and longitude, so I will assume that there are valid values for the dataframe. I will now query the API and store each row's corresponding FIPS code to obtain more census information."
   ]
  },
  {
   "cell_type": "code",
   "execution_count": 5,
   "metadata": {
    "collapsed": true
   },
   "outputs": [],
   "source": [
    "def get_census_block(lat,long):\n",
    "    FIPS_url = 'http://data.fcc.gov/api/block/find?format=json&latitude={}&longitude={}&showall=true'.format(lat,long)\n",
    "    try:\n",
    "        response = urlopen(FIPS_url)\n",
    "        FIPS = response.read().decode('utf-8')\n",
    "        FIPS = json.loads(FIPS)\n",
    "        return FIPS['Block']['FIPS']\n",
    "    except:\n",
    "        print(FIPS_url)"
   ]
  },
  {
   "cell_type": "code",
   "execution_count": 6,
   "metadata": {
    "collapsed": false
   },
   "outputs": [],
   "source": [
    "def scrape_fips_blocks(df):\n",
    "    blocks = []\n",
    "    for index, row in df.iterrows():\n",
    "        lat = row['LATITUDE']\n",
    "        long = row['LONGITUDE']\n",
    "        blocks.append(get_census_block(lat, long))\n",
    "    fips_df = pd.DataFrame(blocks)\n",
    "    building_fips_df = pd.concat([df,fips_df], axis=1)\n",
    "    building_fips_df = building_fips_df.rename(columns={0 : 'FIPS_BLOCK_NUMBER'})\n",
    "    return building_fips_df"
   ]
  },
  {
   "cell_type": "code",
   "execution_count": 7,
   "metadata": {
    "collapsed": false
   },
   "outputs": [
    {
     "data": {
      "text/plain": [
       "'170310318001003'"
      ]
     },
     "execution_count": 7,
     "metadata": {},
     "output_type": "execute_result"
    }
   ],
   "source": [
    "get_census_block(41.9688732498, -87.6698381016)"
   ]
  },
  {
   "cell_type": "code",
   "execution_count": 8,
   "metadata": {
    "collapsed": false
   },
   "outputs": [],
   "source": [
    "building_fips_df = scrape_fips_blocks(buildings)"
   ]
  },
  {
   "cell_type": "code",
   "execution_count": 9,
   "metadata": {
    "collapsed": true
   },
   "outputs": [],
   "source": [
    "building_fips_df.to_pickle('building_fips.pkl')"
   ]
  },
  {
   "cell_type": "code",
   "execution_count": 10,
   "metadata": {
    "collapsed": true
   },
   "outputs": [],
   "source": [
    "building_fips_df = pd.read_pickle('building_fips.pkl')"
   ]
  },
  {
   "cell_type": "code",
   "execution_count": 11,
   "metadata": {
    "collapsed": false
   },
   "outputs": [
    {
     "data": {
      "text/html": [
       "<div>\n",
       "<table border=\"1\" class=\"dataframe\">\n",
       "  <thead>\n",
       "    <tr style=\"text-align: right;\">\n",
       "      <th></th>\n",
       "      <th>SERVICE REQUEST TYPE</th>\n",
       "      <th>SERVICE REQUEST NUMBER</th>\n",
       "      <th>DATE SERVICE REQUEST WAS RECEIVED</th>\n",
       "      <th>LOCATION OF BUILDING ON THE LOT (IF GARAGE, CHANGE TYPE CODE TO BGD).</th>\n",
       "      <th>IS THE BUILDING DANGEROUS OR HAZARDOUS?</th>\n",
       "      <th>IS BUILDING OPEN OR BOARDED?</th>\n",
       "      <th>IF THE BUILDING IS OPEN, WHERE IS THE ENTRY POINT?</th>\n",
       "      <th>IS THE BUILDING CURRENTLY VACANT OR OCCUPIED?</th>\n",
       "      <th>IS THE BUILDING VACANT DUE TO FIRE?</th>\n",
       "      <th>ANY PEOPLE USING PROPERTY? (HOMELESS, CHILDEN, GANGS)</th>\n",
       "      <th>...</th>\n",
       "      <th>ZIP CODE</th>\n",
       "      <th>X COORDINATE</th>\n",
       "      <th>Y COORDINATE</th>\n",
       "      <th>Ward</th>\n",
       "      <th>Police District</th>\n",
       "      <th>Community Area</th>\n",
       "      <th>LATITUDE</th>\n",
       "      <th>LONGITUDE</th>\n",
       "      <th>Location</th>\n",
       "      <th>FIPS_BLOCK_NUMBER</th>\n",
       "    </tr>\n",
       "  </thead>\n",
       "  <tbody>\n",
       "    <tr>\n",
       "      <th>0</th>\n",
       "      <td>Vacant/Abandoned Building</td>\n",
       "      <td>16-06902848</td>\n",
       "      <td>10/01/2016</td>\n",
       "      <td>Rear</td>\n",
       "      <td>NaN</td>\n",
       "      <td>Open</td>\n",
       "      <td>BACK DOOR</td>\n",
       "      <td>Vacant</td>\n",
       "      <td>False</td>\n",
       "      <td>True</td>\n",
       "      <td>...</td>\n",
       "      <td>60628.0</td>\n",
       "      <td>1.177385e+06</td>\n",
       "      <td>1.837852e+06</td>\n",
       "      <td>9</td>\n",
       "      <td>5</td>\n",
       "      <td>49</td>\n",
       "      <td>41.710392</td>\n",
       "      <td>-87.62599</td>\n",
       "      <td>(41.710391684078424, -87.62598966616069)</td>\n",
       "      <td>170314907002004</td>\n",
       "    </tr>\n",
       "  </tbody>\n",
       "</table>\n",
       "<p>1 rows × 24 columns</p>\n",
       "</div>"
      ],
      "text/plain": [
       "        SERVICE REQUEST TYPE SERVICE REQUEST NUMBER  \\\n",
       "0  Vacant/Abandoned Building            16-06902848   \n",
       "\n",
       "  DATE SERVICE REQUEST WAS RECEIVED  \\\n",
       "0                        10/01/2016   \n",
       "\n",
       "  LOCATION OF BUILDING ON THE LOT (IF GARAGE, CHANGE TYPE CODE TO BGD).  \\\n",
       "0                                               Rear                      \n",
       "\n",
       "   IS THE BUILDING DANGEROUS OR HAZARDOUS? IS BUILDING OPEN OR BOARDED?  \\\n",
       "0                                      NaN                         Open   \n",
       "\n",
       "  IF THE BUILDING IS OPEN, WHERE IS THE ENTRY POINT?  \\\n",
       "0                                          BACK DOOR   \n",
       "\n",
       "  IS THE BUILDING CURRENTLY VACANT OR OCCUPIED?  \\\n",
       "0                                        Vacant   \n",
       "\n",
       "  IS THE BUILDING VACANT DUE TO FIRE?  \\\n",
       "0                               False   \n",
       "\n",
       "  ANY PEOPLE USING PROPERTY? (HOMELESS, CHILDEN, GANGS)        ...          \\\n",
       "0                                               True           ...           \n",
       "\n",
       "   ZIP CODE  X COORDINATE  Y COORDINATE Ward  Police District  Community Area  \\\n",
       "0   60628.0  1.177385e+06  1.837852e+06    9                5              49   \n",
       "\n",
       "    LATITUDE  LONGITUDE                                  Location  \\\n",
       "0  41.710392  -87.62599  (41.710391684078424, -87.62598966616069)   \n",
       "\n",
       "   FIPS_BLOCK_NUMBER  \n",
       "0    170314907002004  \n",
       "\n",
       "[1 rows x 24 columns]"
      ]
     },
     "execution_count": 11,
     "metadata": {},
     "output_type": "execute_result"
    }
   ],
   "source": [
    "building_fips_df.head(1)"
   ]
  },
  {
   "cell_type": "markdown",
   "metadata": {
    "collapsed": true
   },
   "source": [
    "Using the FIPS information, I can now scrape to obtain income and benefits information"
   ]
  },
  {
   "cell_type": "code",
   "execution_count": null,
   "metadata": {
    "collapsed": true
   },
   "outputs": [],
   "source": [
    "def scrape_income(df):\n",
    "    '''\n",
    "    Function that retrieves the INCOME AND BENEFITS (IN 2015 INFLATION-ADJUSTED DOLLARS)\n",
    "    '''\n",
    "    avg_income_list = []    \n",
    "    for index, row in df.iterrows():\n",
    "        state = row['FIPS_BLOCK_NUMBER'][0:2]\n",
    "        county = row['FIPS_BLOCK_NUMBER'][2:5]\n",
    "        tract = row['FIPS_BLOCK_NUMBER'][5:11]\n",
    "        url ='http://api.census.gov/data/2015/acs5/profile?get=DP03_0051E,NAME&for=tract:{tract}&in=state:{state}+county:{county}&key=5114f013c5c3a46e13d51564a7d6411436e2b063'.format(state=state, county=county, tract=tract)\n",
    "        r = requests.get(url)\n",
    "        if r.status_code != 204: # 204 corresponds to no content.\n",
    "            json = r.json()\n",
    "            income_amount= json[1][0]\n",
    "            avg_income_list.append(income_amount)    \n",
    "    income = pd.DataFrame(avg_income_list)\n",
    "    buildings_income_df = pd.concat([df,income], axis=1)\n",
    "    buildings_income_df = buildings_income_df.rename(columns={0 : 'AVG_INCOME'})\n",
    "    return buildings_income_df"
   ]
  },
  {
   "cell_type": "code",
   "execution_count": null,
   "metadata": {
    "collapsed": false
   },
   "outputs": [],
   "source": [
    "buildings_income_df = scrape_income(building_fips_df)"
   ]
  },
  {
   "cell_type": "code",
   "execution_count": null,
   "metadata": {
    "collapsed": false
   },
   "outputs": [],
   "source": [
    "buildings_income_df.to_pickle('buildings_income.pkl')"
   ]
  },
  {
   "cell_type": "code",
   "execution_count": null,
   "metadata": {
    "collapsed": true
   },
   "outputs": [],
   "source": [
    "buildings_income_df = pd.read_pickle('buildings_income.pkl')"
   ]
  },
  {
   "cell_type": "code",
   "execution_count": null,
   "metadata": {
    "collapsed": false
   },
   "outputs": [],
   "source": [
    "buildings_income_df.sample(10)"
   ]
  },
  {
   "cell_type": "code",
   "execution_count": null,
   "metadata": {
    "collapsed": true
   },
   "outputs": [],
   "source": [
    "int_list = [int(x) for x in list(buildings_income_df['AVG_INCOME'])]"
   ]
  },
  {
   "cell_type": "code",
   "execution_count": null,
   "metadata": {
    "collapsed": true
   },
   "outputs": [],
   "source": [
    "buildings_income_df.drop(['AVG_INCOME'], axis=1, inplace=True)"
   ]
  },
  {
   "cell_type": "code",
   "execution_count": null,
   "metadata": {
    "collapsed": true
   },
   "outputs": [],
   "source": [
    "pd_int_list = pd.DataFrame({'AVG_INCOME': int_list})"
   ]
  },
  {
   "cell_type": "code",
   "execution_count": null,
   "metadata": {
    "collapsed": true
   },
   "outputs": [],
   "source": [
    "buildings_income_df = pd.concat([buildings_income_df, pd_int_list], axis=1)"
   ]
  },
  {
   "cell_type": "code",
   "execution_count": null,
   "metadata": {
    "collapsed": false
   },
   "outputs": [],
   "source": [
    "income_dist = pd.DataFrame(buildings_income_df['AVG_INCOME'].groupby(buildings_income_df['ZIP CODE']).describe().unstack()['mean'].sort_values(ascending=True,inplace=False))"
   ]
  },
  {
   "cell_type": "code",
   "execution_count": null,
   "metadata": {
    "collapsed": false
   },
   "outputs": [],
   "source": [
    "income_dist.plot(kind='barh',figsize=(16, 12))\n",
    "plt.title('Income Distribution per Zip Code')\n",
    "plt.xlabel('Average Income (Thousands)')\n",
    "plt.ylabel('Zip Codes')"
   ]
  },
  {
   "cell_type": "markdown",
   "metadata": {},
   "source": [
    "This graph shows the stark income divide in Chicago:\n",
    "60605 refers to the downtown core while 60636 is the Englewood neighbourhood.\n",
    "The downtown core is extrmemly affluent, while Englewood suffered from high levels of poverty and violence.\n",
    "The graph below is consistent with our finidings in that the most neglected urban infrastructure and reports occur in the most impoverished neighbourhoods.\n",
    "We can see that the divide between the richest and poorest zipcodes is approximately 500 percent."
   ]
  },
  {
   "cell_type": "code",
   "execution_count": null,
   "metadata": {
    "collapsed": false
   },
   "outputs": [],
   "source": [
    "hist_zip = buildings['ZIP CODE'].value_counts()\n",
    "plt.figure(figsize=(16,12))\n",
    "graph=sns.countplot(y='ZIP CODE', saturation=1, data=buildings, order=hist_zip.index)\n",
    "plt.title('ZIP Code Histogram')\n",
    "plt.xlabel('Requests')\n",
    "plt.ylabel('Zip Codes')"
   ]
  },
  {
   "cell_type": "markdown",
   "metadata": {},
   "source": [
    "60636 had a higher number of requests for sanitation (~500), potholes (~750) and graffiti (~1000) than it did for vacant buildings (~90). It is reasonable to assume that graffiti and sanitation issues have a higher chance of occurence in unoccupied buildings. Thus, the fact that we have a large amount of requests for graffiti and sanitation may lead one to question whether the number of requests put through for vacant buildings is accurate. The lack off affordable housing in the south side of chicago may be a factor in the low number of yearly reports about vacant buildings (squatters living in these buildings). Then again, perhaps my assumption that graffiti is more likely to occur on unoccupied buildings is weak.\n",
    "Another issue to highlight is how the data was collected - it would not surprise me if statistics relating to the South Side of Chicago were hard to collect/gather. As such, there be implicit bias/large amounts of missing data."
   ]
  }
 ],
 "metadata": {
  "anaconda-cloud": {},
  "kernelspec": {
   "display_name": "Python [default]",
   "language": "python",
   "name": "python3"
  },
  "language_info": {
   "codemirror_mode": {
    "name": "ipython",
    "version": 3
   },
   "file_extension": ".py",
   "mimetype": "text/x-python",
   "name": "python",
   "nbconvert_exporter": "python",
   "pygments_lexer": "ipython3",
   "version": "3.5.2"
  }
 },
 "nbformat": 4,
 "nbformat_minor": 1
}
