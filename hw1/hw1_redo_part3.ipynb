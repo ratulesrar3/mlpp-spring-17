{
 "cells": [
  {
   "cell_type": "markdown",
   "metadata": {},
   "source": [
    "### Diagnostic HW 1 - Part 3"
   ]
  },
  {
   "cell_type": "code",
   "execution_count": 1,
   "metadata": {
    "collapsed": true
   },
   "outputs": [],
   "source": [
    "import pandas as pd\n",
    "import pandas as pd\n",
    "import numpy as np\n",
    "import requests\n",
    "import seaborn as sns\n",
    "import matplotlib.pyplot as plt\n",
    "plt.style.use('ggplot')\n",
    "import matplotlib\n",
    "%matplotlib inline"
   ]
  },
  {
   "cell_type": "code",
   "execution_count": 2,
   "metadata": {
    "collapsed": true
   },
   "outputs": [],
   "source": [
    "graffiti = pd.read_csv('graffiti_removal.csv')"
   ]
  },
  {
   "cell_type": "code",
   "execution_count": 3,
   "metadata": {
    "collapsed": true
   },
   "outputs": [],
   "source": [
    "buildings = pd.read_csv('vacant_buildings.csv')"
   ]
  },
  {
   "cell_type": "code",
   "execution_count": 4,
   "metadata": {
    "collapsed": true
   },
   "outputs": [],
   "source": [
    "potholes = pd.read_csv('potholes_report.csv')"
   ]
  },
  {
   "cell_type": "code",
   "execution_count": 5,
   "metadata": {
    "collapsed": true
   },
   "outputs": [],
   "source": [
    "sanitation = pd.read_csv('sanitation_complaints.csv')"
   ]
  },
  {
   "cell_type": "code",
   "execution_count": 6,
   "metadata": {
    "collapsed": false
   },
   "outputs": [
    {
     "data": {
      "text/plain": [
       "4.726791453961051e-05"
      ]
     },
     "execution_count": 6,
     "metadata": {},
     "output_type": "execute_result"
    }
   ],
   "source": [
    "san1 = sanitation['Street Address'] == '7500 S WOLCOTT AVE'\n",
    "san2 = sanitation['Street Address'] == '7500 s wolcott ave'\n",
    "san3 = sanitation['Street Address'] == '7500 S Wolcott Ave'\n",
    "len(sanitation[san1 | san2 | san3]) / len(sanitation)"
   ]
  },
  {
   "cell_type": "code",
   "execution_count": 8,
   "metadata": {
    "collapsed": false
   },
   "outputs": [
    {
     "data": {
      "text/plain": [
       "1.940579457025868e-05"
      ]
     },
     "execution_count": 8,
     "metadata": {},
     "output_type": "execute_result"
    }
   ],
   "source": [
    "pot1 = potholes['STREET ADDRESS'] == '7500 S WOLCOTT AVE'\n",
    "pot2 = potholes['STREET ADDRESS'] == '7500 s wolcott ave'\n",
    "pot3 = potholes['STREET ADDRESS'] == '7500 S Wolcott Ave'\n",
    "len(potholes[pot1 | pot2 | pot3]) / len(potholes)"
   ]
  },
  {
   "cell_type": "code",
   "execution_count": 9,
   "metadata": {
    "collapsed": false
   },
   "outputs": [
    {
     "data": {
      "text/plain": [
       "0.0"
      ]
     },
     "execution_count": 9,
     "metadata": {},
     "output_type": "execute_result"
    }
   ],
   "source": [
    "graf1 = graffiti['Street Address'] == '7500 S WOLCOTT AVE'\n",
    "graf2 = graffiti['Street Address'] == '7500 s wolcott ave'\n",
    "graf3 = graffiti['Street Address'] == '7500 S Wolcott Ave'\n",
    "len(graffiti[graf1 | graf2 | graf3]) / len(graffiti)"
   ]
  },
  {
   "cell_type": "markdown",
   "metadata": {},
   "source": [
    "A sanitation call is most likely given that the call came from 7500 S Wolcott Ave, as it was the only type of call previously received from that address."
   ]
  },
  {
   "cell_type": "code",
   "execution_count": 10,
   "metadata": {
    "collapsed": true
   },
   "outputs": [],
   "source": [
    "graf_uptown1 = graffiti['ZIP Code'] == 60640\n",
    "graf_uptown2 = graffiti['ZIP Code'] == 60613\n",
    "uptown = len(graffiti[graf_uptown1 | graf_uptown2]) / len(graffiti)"
   ]
  },
  {
   "cell_type": "code",
   "execution_count": 11,
   "metadata": {
    "collapsed": true
   },
   "outputs": [],
   "source": [
    "graf_englewood1 = graffiti['ZIP Code'] == 60621\n",
    "graf_englewood2 = graffiti['ZIP Code'] == 60636\n",
    "englewood = len(graffiti[graf_englewood1 | graf_englewood2]) / len(graffiti)"
   ]
  },
  {
   "cell_type": "code",
   "execution_count": 12,
   "metadata": {
    "collapsed": false
   },
   "outputs": [
    {
     "name": "stdout",
     "output_type": "stream",
     "text": [
      "Uptown prob.: 0.043315907393577296\n",
      "Englewood prob.: 0.0070035681686167126\n",
      "Difference: 0.036312339224960584\n"
     ]
    }
   ],
   "source": [
    "print('Uptown prob.: {}'.format(uptown))\n",
    "print('Englewood prob.: {}'.format(englewood))\n",
    "print('Difference: {}'.format(uptown - englewood))"
   ]
  },
  {
   "cell_type": "code",
   "execution_count": 13,
   "metadata": {
    "collapsed": false
   },
   "outputs": [
    {
     "name": "stdout",
     "output_type": "stream",
     "text": [
      "Uptown prob: 0.6153846153846155\n",
      "Englewood prob: 0.3846153846153846\n"
     ]
    }
   ],
   "source": [
    "up = 400/1000\n",
    "eng = 600/1000\n",
    "\n",
    "up_g = 160/400\n",
    "eng_g = 100/600\n",
    "\n",
    "p_e_g = (eng*eng_g) / ((eng*eng_g) + (up*up_g))\n",
    "p_u_g = (up*up_g) / ((eng*eng_g) + (up*up_g))\n",
    "print('Uptown prob: {}'.format(p_u_g))\n",
    "print('Englewood prob: {}'.format(p_e_g))"
   ]
  },
  {
   "cell_type": "markdown",
   "metadata": {},
   "source": [
    "Thus we can see that there is a higher probability in recieving a graffiti call from the Uptown Area."
   ]
  }
 ],
 "metadata": {
  "anaconda-cloud": {},
  "kernelspec": {
   "display_name": "Python [default]",
   "language": "python",
   "name": "python3"
  },
  "language_info": {
   "codemirror_mode": {
    "name": "ipython",
    "version": 3
   },
   "file_extension": ".py",
   "mimetype": "text/x-python",
   "name": "python",
   "nbconvert_exporter": "python",
   "pygments_lexer": "ipython3",
   "version": "3.5.2"
  }
 },
 "nbformat": 4,
 "nbformat_minor": 1
}
